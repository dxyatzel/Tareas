{
  "nbformat": 4,
  "nbformat_minor": 0,
  "metadata": {
    "colab": {
      "provenance": []
    },
    "kernelspec": {
      "name": "python3",
      "display_name": "Python 3"
    },
    "language_info": {
      "name": "python"
    }
  },
  "cells": [
    {
      "cell_type": "code",
      "execution_count": 1,
      "metadata": {
        "colab": {
          "base_uri": "https://localhost:8080/"
        },
        "id": "tsl9Xcznq4JB",
        "outputId": "77b06711-9d6e-4500-ed26-b2458fc40769"
      },
      "outputs": [
        {
          "output_type": "stream",
          "name": "stdout",
          "text": [
            "   Unnamed: 0 trans_date_trans_time            cc_num  \\\n",
            "0           0   2020-06-21 12:14:00  2291160000000000   \n",
            "1           1   2020-06-21 12:14:00  3573030000000000   \n",
            "2           2   2020-06-21 12:14:00  3598220000000000   \n",
            "3           3   2020-06-21 12:15:00  3591920000000000   \n",
            "4           4   2020-06-21 12:15:00  3526830000000000   \n",
            "\n",
            "                               merchant        category    amt   first  \\\n",
            "0                 fraud_Kirlin and Sons   personal_care   2.86    Jeff   \n",
            "1                  fraud_Sporer-Keebler   personal_care  29.84  Joanne   \n",
            "2  fraud_Swaniawski, Nitzsche and Welch  health_fitness  41.28  Ashley   \n",
            "3                     fraud_Haley Group        misc_pos  60.05   Brian   \n",
            "4                 fraud_Johnston-Casper          travel   3.19  Nathan   \n",
            "\n",
            "       last gender                       street  ...      lat      long  \\\n",
            "0   Elliott      M            351 Darlene Green  ...  33.9659  -80.9355   \n",
            "1  Williams      F             3638 Marsh Union  ...  40.3207 -110.4360   \n",
            "2     Lopez      F         9333 Valentine Point  ...  40.6729  -73.5365   \n",
            "3  Williams      M  32941 Krystal Mill Apt. 552  ...  28.5697  -80.8191   \n",
            "4    Massey      M     5783 Evan Roads Apt. 465  ...  44.2529  -85.0170   \n",
            "\n",
            "   city_pop                     job        dob  \\\n",
            "0    333497     Mechanical engineer 1968-03-19   \n",
            "1       302  Sales professional, IT 1990-01-17   \n",
            "2     34496       Librarian, public 1970-10-21   \n",
            "3     54767            Set designer 1987-07-25   \n",
            "4      1126      Furniture designer 1955-07-06   \n",
            "\n",
            "                          trans_num   unix_time  merch_lat  merch_long  \\\n",
            "0  2da90c7d74bd46a0caf3777415b3ebd3  1371816865  33.986391  -81.200714   \n",
            "1  324cc204407e99f51b0d6ca0055005e7  1371816873  39.450498 -109.960431   \n",
            "2  c81755dbbbea9d5c77f094348a7579be  1371816893  40.495810  -74.196111   \n",
            "3  2159175b9efe66dc301f149d3d5abf8c  1371816915  28.812398  -80.883061   \n",
            "4  57ff021bd3f328f8738bb535c302a31b  1371816917  44.959148  -85.884734   \n",
            "\n",
            "   is_fraud  \n",
            "0         0  \n",
            "1         0  \n",
            "2         0  \n",
            "3         0  \n",
            "4         0  \n",
            "\n",
            "[5 rows x 23 columns]\n",
            "Unnamed: 0               0\n",
            "trans_date_trans_time    0\n",
            "cc_num                   0\n",
            "merchant                 0\n",
            "category                 0\n",
            "amt                      0\n",
            "first                    0\n",
            "last                     0\n",
            "gender                   0\n",
            "street                   0\n",
            "city                     0\n",
            "state                    0\n",
            "zip                      0\n",
            "lat                      0\n",
            "long                     0\n",
            "city_pop                 0\n",
            "job                      0\n",
            "dob                      0\n",
            "trans_num                0\n",
            "unix_time                0\n",
            "merch_lat                0\n",
            "merch_long               0\n",
            "is_fraud                 0\n",
            "dtype: int64\n",
            "          Unnamed: 0          trans_date_trans_time        cc_num  \\\n",
            "count  555719.000000                         555719  5.557190e+05   \n",
            "mean   277859.000000  2020-10-02 01:53:55.673389056  4.178387e+17   \n",
            "min         0.000000            2020-06-21 12:14:00  6.041621e+10   \n",
            "25%    138929.500000            2020-08-09 06:10:00  1.800430e+14   \n",
            "50%    277859.000000            2020-10-03 00:59:00  3.521420e+15   \n",
            "75%    416788.500000            2020-12-01 03:02:30  4.635330e+15   \n",
            "max    555718.000000            2020-12-31 23:59:00  4.992350e+18   \n",
            "std    160422.401459                            NaN  1.309837e+18   \n",
            "\n",
            "                 amt            zip            lat           long  \\\n",
            "count  555719.000000  555719.000000  555719.000000  555719.000000   \n",
            "mean       69.392810   48842.628015      38.543253     -90.231325   \n",
            "min         1.000000    1257.000000      20.027100    -165.672300   \n",
            "25%         9.630000   26292.000000      34.668900     -96.798000   \n",
            "50%        47.290000   48174.000000      39.371600     -87.476900   \n",
            "75%        83.010000   72011.000000      41.894800     -80.175200   \n",
            "max     22768.110000   99921.000000      65.689900     -67.950300   \n",
            "std       156.745941   26855.283328       5.061336      13.721780   \n",
            "\n",
            "           city_pop                            dob     unix_time  \\\n",
            "count  5.557190e+05                         555719  5.557190e+05   \n",
            "mean   8.822189e+04  1973-11-11 16:30:05.937173264  1.380679e+09   \n",
            "min    2.300000e+01            1924-10-30 00:00:00  1.371817e+09   \n",
            "25%    7.410000e+02            1962-09-27 00:00:00  1.376029e+09   \n",
            "50%    2.408000e+03            1975-11-30 00:00:00  1.380762e+09   \n",
            "75%    1.968500e+04            1987-04-23 00:00:00  1.385867e+09   \n",
            "max    2.906700e+06            2005-01-29 00:00:00  1.388534e+09   \n",
            "std    3.003909e+05                            NaN  5.201104e+06   \n",
            "\n",
            "           merch_lat     merch_long       is_fraud  \n",
            "count  555719.000000  555719.000000  555719.000000  \n",
            "mean       38.542798     -90.231380       0.003860  \n",
            "min        19.027422    -166.671575       0.000000  \n",
            "25%        34.755302     -96.905129       0.000000  \n",
            "50%        39.376593     -87.445204       0.000000  \n",
            "75%        41.954163     -80.264637       0.000000  \n",
            "max        66.679297     -66.952026       1.000000  \n",
            "std         5.095829      13.733071       0.062008  \n"
          ]
        }
      ],
      "source": [
        "import pandas as pd\n",
        "df = pd.read_excel('/content/fraud_test.xlsx')\n",
        "print(df.head())\n",
        "print(df.isnull().sum())\n",
        "print(df.describe())"
      ]
    },
    {
      "cell_type": "code",
      "source": [
        "from sklearn.preprocessing import LabelEncoder\n",
        "from sklearn.model_selection import train_test_split\n",
        "label_encoder = LabelEncoder()\n",
        "\n",
        "categorical_columns = ['merchant', 'category', 'first', 'last', 'gender', 'street', 'city', 'state', 'job']\n",
        "for col in categorical_columns:\n",
        "    df[col] = label_encoder.fit_transform(df[col])\n",
        "\n",
        "X = df.drop(['is_fraud', 'trans_date_trans_time', 'dob', 'trans_num'], axis=1)\n",
        "y = df['is_fraud']\n",
        "\n",
        "X_train, X_test, y_train, y_test = train_test_split(X, y, test_size=0.2, random_state=42)"
      ],
      "metadata": {
        "id": "ua-40DImuQwu"
      },
      "execution_count": 2,
      "outputs": []
    },
    {
      "cell_type": "code",
      "source": [
        "from sklearn.tree import DecisionTreeClassifier\n",
        "from sklearn.metrics import classification_report, confusion_matrix, accuracy_score\n",
        "\n",
        "model = DecisionTreeClassifier(random_state=42)\n",
        "model.fit(X_train, y_train)\n",
        "\n",
        "y_pred = model.predict(X_test)"
      ],
      "metadata": {
        "id": "CBg3Uok2ubzY"
      },
      "execution_count": 3,
      "outputs": []
    },
    {
      "cell_type": "code",
      "source": [
        "print(confusion_matrix(y_test, y_pred))\n",
        "print(classification_report(y_test, y_pred))\n",
        "accuracy = accuracy_score(y_test, y_pred)\n",
        "print(f'Accuracy: {accuracy}')"
      ],
      "metadata": {
        "colab": {
          "base_uri": "https://localhost:8080/"
        },
        "id": "3hduOWZlui2K",
        "outputId": "8f4b354f-148a-4b58-ddec-bdb377049490"
      },
      "execution_count": 4,
      "outputs": [
        {
          "output_type": "stream",
          "name": "stdout",
          "text": [
            "[[110533    185]\n",
            " [   157    269]]\n",
            "              precision    recall  f1-score   support\n",
            "\n",
            "           0       1.00      1.00      1.00    110718\n",
            "           1       0.59      0.63      0.61       426\n",
            "\n",
            "    accuracy                           1.00    111144\n",
            "   macro avg       0.80      0.81      0.80    111144\n",
            "weighted avg       1.00      1.00      1.00    111144\n",
            "\n",
            "Accuracy: 0.9969229108183978\n"
          ]
        }
      ]
    },
    {
      "cell_type": "code",
      "source": [
        "new_predictions = model.predict(X_test)\n",
        "df_test = X_test.copy()\n",
        "df_test['is_fraud_pred'] = new_predictions\n",
        "print(df_test.head())"
      ],
      "metadata": {
        "colab": {
          "base_uri": "https://localhost:8080/"
        },
        "id": "q6NuBbCIul-L",
        "outputId": "89e54659-5961-49d8-838d-2d93cc1a749f"
      },
      "execution_count": 5,
      "outputs": [
        {
          "output_type": "stream",
          "name": "stdout",
          "text": [
            "        Unnamed: 0           cc_num  merchant  category    amt  first  last  \\\n",
            "119106      119106  377896000000000        17        12   1.07    196   302   \n",
            "179292      179292   30364100000000       529         7  94.99    280   379   \n",
            "540729      540729   30328400000000        45         7  31.28    138    58   \n",
            "374360      374360   30364100000000        99         2  73.06    280   379   \n",
            "314574      314574    4198470000000       355         8   9.99     65   458   \n",
            "\n",
            "        gender  street  city  state    zip      lat     long  city_pop  job  \\\n",
            "119106       0     648   328      6   6441  41.4682 -72.5751      5438  258   \n",
            "179292       1       1   508     35  74047  35.8896 -96.0887      7163  192   \n",
            "540729       0     168   100     23  64630  40.0290 -93.1607       602  109   \n",
            "374360       1       1   508     35  74047  35.8896 -96.0887      7163  192   \n",
            "314574       0     493    40     11  51521  41.4768 -95.3509      2036  168   \n",
            "\n",
            "         unix_time  merch_lat  merch_long  is_fraud_pred  \n",
            "119106  1375430128  41.240083  -71.837788              0  \n",
            "179292  1377266716  35.156537  -95.806648              0  \n",
            "540729  1388247749  39.888665  -93.106804              0  \n",
            "374360  1384425890  36.734101  -96.737345              0  \n",
            "314574  1382147409  40.922072  -94.899388              0  \n"
          ]
        }
      ]
    },
    {
      "cell_type": "code",
      "source": [
        "fraud_transactions = df_test[df_test['is_fraud_pred'] == 1]\n",
        "print(fraud_transactions.head())"
      ],
      "metadata": {
        "colab": {
          "base_uri": "https://localhost:8080/"
        },
        "id": "vNu8Sn8du7NQ",
        "outputId": "98b8451c-b9eb-4d5e-e181-3095680e7f96"
      },
      "execution_count": 6,
      "outputs": [
        {
          "output_type": "stream",
          "name": "stdout",
          "text": [
            "        Unnamed: 0           cc_num  merchant  category      amt  first  last  \\\n",
            "215315      215315  378006000000000       306        13   602.11     68   263   \n",
            "163504      163504    4755700000000        13        11  1037.36    272   120   \n",
            "221271      221271    4623560000000       300         8   788.07    331   436   \n",
            "308053      308053   30042400000000       269         8   714.25     73   165   \n",
            "449327      449327     676102000000       140         8   734.43    246   277   \n",
            "\n",
            "        gender  street  city  state    zip      lat      long  city_pop  job  \\\n",
            "215315       1     417   239     44  22719  38.5095  -78.2638       395  406   \n",
            "163504       1      17   674     42  75048  32.9643  -96.6012     20328  408   \n",
            "221271       1     867   429     11  51453  42.2619  -94.5566       695    5   \n",
            "308053       1      57   554     33  11768  40.9051  -73.3309     21902  457   \n",
            "449327       0     815   522      4  94558  38.4549 -122.2564     94014   19   \n",
            "\n",
            "         unix_time  merch_lat  merch_long  is_fraud_pred  \n",
            "215315  1378416613  39.509439  -78.202091              1  \n",
            "163504  1376755164  32.583072  -95.966064              1  \n",
            "221271  1378593388  42.460555  -94.055387              1  \n",
            "308053  1381892484  41.436488  -74.172564              1  \n",
            "449327  1386483344  37.671591 -121.465764              1  \n"
          ]
        }
      ]
    },
    {
      "cell_type": "code",
      "source": [
        "import pandas as pd\n",
        "from sklearn.preprocessing import LabelEncoder\n",
        "from sklearn.model_selection import train_test_split\n",
        "from sklearn.tree import DecisionTreeClassifier\n",
        "from sklearn.metrics import classification_report, confusion_matrix, accuracy_score\n",
        "\n",
        "df = pd.read_excel('/content/fraud_test.xlsx')\n",
        "label_encoder = LabelEncoder()\n",
        "categorical_columns = ['merchant', 'category', 'first', 'last', 'gender', 'street', 'city', 'state', 'job']\n",
        "for col in categorical_columns:\n",
        "    df[col] = label_encoder.fit_transform(df[col])\n",
        "\n",
        "X = df.drop(['is_fraud', 'trans_date_trans_time', 'dob', 'trans_num'], axis=1)\n",
        "y = df['is_fraud']\n",
        "\n",
        "X_train, X_test, y_train, y_test = train_test_split(X, y, test_size=0.2, random_state=42)\n",
        "\n",
        "model = DecisionTreeClassifier(random_state=42)\n",
        "model.fit(X_train, y_train)\n",
        "y_pred = model.predict(X_test)\n",
        "print(confusion_matrix(y_test, y_pred))\n",
        "print(classification_report(y_test, y_pred))\n",
        "accuracy = accuracy_score(y_test, y_pred)\n",
        "print(f'Accuracy: {accuracy}')\n",
        "df_test = X_test.copy()\n",
        "df_test['is_fraud_pred'] = y_pred\n",
        "fraud_transactions = df_test[df_test['is_fraud_pred'] == 1]\n",
        "print(fraud_transactions.head())"
      ],
      "metadata": {
        "colab": {
          "base_uri": "https://localhost:8080/"
        },
        "id": "1j_s1UEHu-zk",
        "outputId": "4739a938-7a18-4c5b-aa40-4b4e1f7662f5"
      },
      "execution_count": 7,
      "outputs": [
        {
          "output_type": "stream",
          "name": "stdout",
          "text": [
            "[[110533    185]\n",
            " [   157    269]]\n",
            "              precision    recall  f1-score   support\n",
            "\n",
            "           0       1.00      1.00      1.00    110718\n",
            "           1       0.59      0.63      0.61       426\n",
            "\n",
            "    accuracy                           1.00    111144\n",
            "   macro avg       0.80      0.81      0.80    111144\n",
            "weighted avg       1.00      1.00      1.00    111144\n",
            "\n",
            "Accuracy: 0.9969229108183978\n",
            "        Unnamed: 0           cc_num  merchant  category      amt  first  last  \\\n",
            "215315      215315  378006000000000       306        13   602.11     68   263   \n",
            "163504      163504    4755700000000        13        11  1037.36    272   120   \n",
            "221271      221271    4623560000000       300         8   788.07    331   436   \n",
            "308053      308053   30042400000000       269         8   714.25     73   165   \n",
            "449327      449327     676102000000       140         8   734.43    246   277   \n",
            "\n",
            "        gender  street  city  state    zip      lat      long  city_pop  job  \\\n",
            "215315       1     417   239     44  22719  38.5095  -78.2638       395  406   \n",
            "163504       1      17   674     42  75048  32.9643  -96.6012     20328  408   \n",
            "221271       1     867   429     11  51453  42.2619  -94.5566       695    5   \n",
            "308053       1      57   554     33  11768  40.9051  -73.3309     21902  457   \n",
            "449327       0     815   522      4  94558  38.4549 -122.2564     94014   19   \n",
            "\n",
            "         unix_time  merch_lat  merch_long  is_fraud_pred  \n",
            "215315  1378416613  39.509439  -78.202091              1  \n",
            "163504  1376755164  32.583072  -95.966064              1  \n",
            "221271  1378593388  42.460555  -94.055387              1  \n",
            "308053  1381892484  41.436488  -74.172564              1  \n",
            "449327  1386483344  37.671591 -121.465764              1  \n"
          ]
        }
      ]
    }
  ]
}