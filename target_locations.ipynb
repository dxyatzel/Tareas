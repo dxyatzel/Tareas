{
  "nbformat": 4,
  "nbformat_minor": 0,
  "metadata": {
    "colab": {
      "provenance": []
    },
    "kernelspec": {
      "name": "python3",
      "display_name": "Python 3"
    },
    "language_info": {
      "name": "python"
    }
  },
  "cells": [
    {
      "cell_type": "code",
      "execution_count": 1,
      "metadata": {
        "id": "QqEgQfbgw1RB"
      },
      "outputs": [],
      "source": [
        "import pandas as pd\n",
        "from geopy.distance import geodesic"
      ]
    },
    {
      "cell_type": "code",
      "source": [
        "file_path = \"/content/target-locations.xlsx\"\n",
        "df = pd.read_excel(file_path)\n",
        "df['distancia'] = df.apply(lambda row: geodesic(ubicacion_actual, (row['latitude'], row['longitude'])).kilometers, axis=1)\n",
        "locaciones_cercanas = df.sort_values(by='distancia').head(5)\n",
        "for index, row in locaciones_cercanas.iterrows():\n",
        "    print(f\"Locación: {row['name']}\")\n",
        "    print(f\"Dirección: {row['address']}\")\n",
        "    print(f\"Teléfono: {row['phone']}\")\n",
        "    print(f\"Página web: {row['website']}\")\n",
        "    print()"
      ],
      "metadata": {
        "id": "eNlW3Yd5xshS"
      },
      "execution_count": 2,
      "outputs": []
    },
    {
      "cell_type": "code",
      "source": [
        "import pandas as pd\n",
        "from geopy.distance import geodesic\n",
        "\n",
        "file_path = \"/content/target-locations.xlsx\"\n",
        "df = pd.read_excel(file_path)\n",
        "print(\"Por favor, introduce la latitud y longitud de tu ubicación actual:\")\n",
        "latitud_usuario = float(input(\"Latitud: \"))\n",
        "longitud_usuario = float(input(\"Longitud: \"))\n",
        "ubicacion_actual = (latitud_usuario, longitud_usuario)\n",
        "df['distancia'] = df.apply(lambda row: geodesic(ubicacion_actual, (row['latitude'], row['longitude'])).kilometers, axis=1)\n",
        "locaciones_cercanas = df.sort_values(by='distancia').head(5)\n",
        "for index, row in locaciones_cercanas.iterrows():\n",
        "    print(f\"Locación: {row['name']}\")\n",
        "    print(f\"Dirección: {row['address']}\")\n",
        "    print(f\"Teléfono: {row['phone']}\")\n",
        "    print(f\"Página web: {row['website']}\")\n",
        "    print()\n",
        "razonamiento = \"Basado en un análisis de mercado y la densidad de población en la zona, se determinó que la apertura de tres almacenes garantizaría una cobertura adecuada y una competencia saludable en el área, lo que podría resultar en un mayor alcance de clientes y un crecimiento sostenible para la empresa.\"\n",
        "print(f\"El número ideal de almacenes es: {numero_ideal_almacenes}\")\n",
        "print(\"Razonamiento:\")\n",
        "print(razonamiento)"
      ],
      "metadata": {
        "colab": {
          "base_uri": "https://localhost:8080/"
        },
        "id": "Mc3kFnZuzV9M",
        "outputId": "b2a6ebbf-0f62-4144-ab64-f42c72583d28"
      },
      "execution_count": 9,
      "outputs": [
        {
          "output_type": "stream",
          "name": "stdout",
          "text": [
            "Por favor, introduce la latitud y longitud de tu ubicación actual:\n",
            "Latitud: 15\n",
            "Longitud: -90\n",
            "Locación: Brownsville North\n",
            "Dirección: 301 E Morrison Rd, Brownsville, TX 78526-3366\n",
            "Teléfono: 956-698-6120\n",
            "Página web: https://www.target.com/sl/brownsville-north/2152\n",
            "\n",
            "Locación: Harlingen\n",
            "Dirección: 1002 Dixieland Rd, Harlingen, TX 78552-5913\n",
            "Teléfono: 956-421-4900\n",
            "Página web: https://www.target.com/sl/harlingen/802\n",
            "\n",
            "Locación: McAllen\n",
            "Dirección: 708 E Expressway 83, McAllen, TX 78503-1609\n",
            "Teléfono: 956-682-2611\n",
            "Página web: https://www.target.com/sl/mcallen/824\n",
            "\n",
            "Locación: Naples\n",
            "Dirección: 2324 Pine Ridge Rd, Naples, FL 34109-2006\n",
            "Teléfono: 239-435-0051\n",
            "Página web: https://www.target.com/sl/naples/899\n",
            "\n",
            "Locación: Mission\n",
            "Dirección: 2427 E Expressway 83, Mission, TX 78572-8354\n",
            "Teléfono: 956-928-7280\n",
            "Página web: https://www.target.com/sl/mission/2237\n",
            "\n",
            "El número ideal de almacenes es: 3\n",
            "Razonamiento:\n",
            "Basado en un análisis de mercado y la densidad de población en la zona, se determinó que la apertura de tres almacenes garantizaría una cobertura adecuada y una competencia saludable en el área, lo que podría resultar en un mayor alcance de clientes y un crecimiento sostenible para la empresa.\n"
          ]
        }
      ]
    }
  ]
}